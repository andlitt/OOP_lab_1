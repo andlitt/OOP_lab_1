{
 "cells": [
  {
   "cell_type": "markdown",
   "metadata": {
    "id": "BXrGaP1WraQv"
   },
   "source": [
    "# **Элементы объектно-ориентированного программирования в языке Python**\n"
   ]
  },
  {
   "cell_type": "markdown",
   "metadata": {},
   "source": [
    "### Атрибут класса"
   ]
  },
  {
   "cell_type": "code",
   "execution_count": 4,
   "metadata": {},
   "outputs": [
    {
     "data": {
      "text/plain": [
       "[]"
      ]
     },
     "execution_count": 4,
     "metadata": {},
     "output_type": "execute_result"
    }
   ],
   "source": [
    "# Knacс Book\n",
    "class Book:\n",
    "    material = \"paper\"\n",
    "    cover = \"paperback\"\n",
    "    all_books = []\n",
    "\n",
    "Book.material # \"paper\"\n",
    "Book. cover # \"paperback\"\n",
    "Book.all_books # []"
   ]
  },
  {
   "cell_type": "markdown",
   "metadata": {},
   "source": [
    "### Экземпляр класса"
   ]
  },
  {
   "cell_type": "code",
   "execution_count": 5,
   "metadata": {},
   "outputs": [
    {
     "name": "stdout",
     "output_type": "stream",
     "text": [
      "paper\n",
      "paperback\n",
      "[]\n"
     ]
    }
   ],
   "source": [
    "# экземпляр класса вооk\n",
    "my_book = Book()\n",
    "\n",
    "print(my_book.material) # \"paper\"\n",
    "print(my_book.cover) # \"paperback\"\n",
    "print(my_book.all_books) # []"
   ]
  },
  {
   "cell_type": "markdown",
   "metadata": {},
   "source": [
    "### Элемент класса"
   ]
  },
  {
   "cell_type": "code",
   "execution_count": 6,
   "metadata": {},
   "outputs": [
    {
     "name": "stdout",
     "output_type": "stream",
     "text": [
      "B1oлгa\n",
      "Ceнa\n",
      "Нил\n"
     ]
    }
   ],
   "source": [
    "class River:\n",
    "    # список всех рек\n",
    "    all_rivers = []\n",
    "\n",
    "    def __init__(self, name, length):\n",
    "        self.name = name\n",
    "        self.length = length       \n",
    "        River.all_rivers.append(self)\n",
    "\n",
    "volga = River(\"B1oлгa\", 3530)\n",
    "seine = River(\"Ceнa\", 776)\n",
    "nile = River(\"Нил\", 6852)\n",
    "\n",
    "# далее печатаем все названия рек\n",
    "for river in River.all_rivers:\n",
    "    print(river.name)"
   ]
  },
  {
   "cell_type": "markdown",
   "metadata": {},
   "source": [
    "### Изменение атрибутов с помощью методов"
   ]
  },
  {
   "cell_type": "code",
   "execution_count": 7,
   "metadata": {
    "colab": {
     "base_uri": "https://localhost:8080/"
    },
    "id": "y38C2ZZFrQyu",
    "outputId": "e7334e5d-9572-4ab1-c7e0-03fa08be4894"
   },
   "outputs": [
    {
     "name": "stdout",
     "output_type": "stream",
     "text": [
      "Loaded 600 tons\n",
      "Unloaded 400 tons\n",
      "Cannot load that much\n",
      "Cannot unload that much\n"
     ]
    }
   ],
   "source": [
    "class Ship:\n",
    "    def __init__(self, name, capacity):\n",
    "        self.name = name\n",
    "        self.capacity = capacity\n",
    "        self.cargo = 0\n",
    "\n",
    "    def load_cargo(self, weight):\n",
    "        if self.cargo + weight <= self.capacity:\n",
    "            self.cargo += weight\n",
    "            print(\"Loaded {} tons\".format(weight))\n",
    "        else:\n",
    "            print(\"Cannot load that much\")\n",
    "\n",
    "    def unload_cargo(self, weight):\n",
    "        if self.cargo - weight >= 0:\n",
    "            self.cargo -= weight\n",
    "            print(\"Unloaded {} tons\".format(weight))\n",
    "        else:\n",
    "            print(\"Cannot unload that much\")\n",
    "\n",
    "black_pearl = Ship(\"Black Pearl\", 800)\n",
    "black_pearl.load_cargo(600)\n",
    "\n",
    "\n",
    "black_pearl.unload_cargo(400)\n",
    "\n",
    "\n",
    "black_pearl.load_cargo(700)\n",
    "\n",
    "\n",
    "black_pearl.unload_cargo(300)\n"
   ]
  },
  {
   "cell_type": "markdown",
   "metadata": {
    "id": "l89cXAQOryrS"
   },
   "source": [
    "### Уровни доступа атрибута и метода"
   ]
  },
  {
   "cell_type": "code",
   "execution_count": 8,
   "metadata": {
    "colab": {
     "base_uri": "https://localhost:8080/"
    },
    "id": "gi3Mme9Arx0-",
    "outputId": "678514c8-c255-458d-ff61-6ccf707109fc"
   },
   "outputs": [
    {
     "data": {
      "text/plain": [
       "10"
      ]
     },
     "execution_count": 8,
     "metadata": {},
     "output_type": "execute_result"
    }
   ],
   "source": [
    "class Rectangle:\n",
    "    def __init__(self, width, height):\n",
    "        self._width = width\n",
    "        self._height = height\n",
    "\n",
    "    def get_width(self):\n",
    "        return self ._width\n",
    "    \n",
    "    def set_width(self, w):\n",
    "        self._width = w\n",
    "        \n",
    "    def get_height(self):\n",
    "        return self._height\n",
    "    \n",
    "    def set_height(self, h):\n",
    "        self._height = h\n",
    "\n",
    "    def area(self):\n",
    "        return self ._width * self ._height\n",
    "    \n",
    "rect = Rectangle(10, 20)\n",
    "rect.get_width()"
   ]
  },
  {
   "cell_type": "markdown",
   "metadata": {
    "id": "EsHUR6-lurOI"
   },
   "source": [
    "### Уровни доступа атрибута и метода"
   ]
  },
  {
   "cell_type": "code",
   "execution_count": 9,
   "metadata": {
    "colab": {
     "base_uri": "https://localhost:8080/"
    },
    "id": "zstumQpEu0X5",
    "outputId": "b6e08f98-52ca-4a51-e6ef-9c670150b541"
   },
   "outputs": [
    {
     "name": "stdout",
     "output_type": "stream",
     "text": [
      "10\n",
      "20\n",
      "100\n"
     ]
    }
   ],
   "source": [
    "class Rectangle:\n",
    "\n",
    "    def __init__(self, width, height):\n",
    "        self._width = width    \n",
    "        self._height = height  \n",
    "\n",
    "    def get_width(self):\n",
    "        return self._width     \n",
    "\n",
    "    def set_width(self, w):\n",
    "        self._width = w        \n",
    "\n",
    "    def get_height(self):\n",
    "        return self._height\n",
    "    \n",
    "    def set_height(self, h):\n",
    "        self._height = h\n",
    "\n",
    "    def area(self):\n",
    "        return self._width * self._height\n",
    "\n",
    "\n",
    "rect = Rectangle(10, 5)  \n",
    "\n",
    "print(rect.get_width())  \n",
    "rect.set_width(20)       \n",
    "print(rect.get_width())  \n",
    "print(rect.area())       "
   ]
  },
  {
   "cell_type": "markdown",
   "metadata": {
    "id": "1hHYOunsu-Gn"
   },
   "source": [
    "### Свойства"
   ]
  },
  {
   "cell_type": "code",
   "execution_count": 10,
   "metadata": {
    "colab": {
     "base_uri": "https://localhost:8080/"
    },
    "id": "8IIIr4gju7yy",
    "outputId": "05045bfa-3626-482b-f345-19402a281bc4"
   },
   "outputs": [
    {
     "data": {
      "text/plain": [
       "20"
      ]
     },
     "execution_count": 10,
     "metadata": {},
     "output_type": "execute_result"
    }
   ],
   "source": [
    "class Rectangle:\n",
    "    def __init__(self, width, height):\n",
    "        self._width = width\n",
    "        self._height = height\n",
    "\n",
    "    @property\n",
    "    def width(self):\n",
    "        return self._width\n",
    "\n",
    "    @width.setter\n",
    "    def width(self, w):\n",
    "        if w > 0:\n",
    "            self._width = w\n",
    "        else:\n",
    "            raise ValueError\n",
    "\n",
    "    @property\n",
    "    def height(self):\n",
    "        return self._height\n",
    "\n",
    "    @height.setter\n",
    "    def height(self, h):\n",
    "        if h > 0:\n",
    "            self._height = h\n",
    "        else:\n",
    "            raise ValueError\n",
    "\n",
    "    def area(self):      \n",
    "        return self._width * self._height\n",
    "    \n",
    "rect = Rectangle(10, 20)\n",
    "rect.width\n",
    "rect.height"
   ]
  },
  {
   "cell_type": "code",
   "execution_count": 12,
   "metadata": {},
   "outputs": [
    {
     "name": "stdout",
     "output_type": "stream",
     "text": [
      "3/4\n",
      "5/7\n",
      "41/28\n",
      "1/28\n"
     ]
    }
   ],
   "source": [
    "class Rational:\n",
    "    def __init__(self, a=0, b=1):  # исправлено на __init__\n",
    "        a = int(a)\n",
    "        b = int(b)\n",
    "        if b == 0:\n",
    "            raise ValueError()\n",
    "        self._numerator = abs(a)\n",
    "        self._denominator = abs(b)\n",
    "        self._reduce()  # исправлено на _reduce\n",
    "    \n",
    "    # Сокращение дроби\n",
    "    def _reduce(self):\n",
    "        # Функция для нахождения наибольшего общего делителя\n",
    "        def gcd(a, b):\n",
    "            if a == 0:\n",
    "                return b\n",
    "            elif b == 0:\n",
    "                return a\n",
    "            elif a >= b:\n",
    "                return gcd(a % b, b)\n",
    "            else:\n",
    "                return gcd(a, b % a)\n",
    "        c = gcd(self._numerator, self._denominator)  # исправлено на _numerator\n",
    "        self._numerator //= c\n",
    "        self._denominator //= c\n",
    "    \n",
    "    @property\n",
    "    def numerator(self):\n",
    "        return self._numerator\n",
    "    \n",
    "    @property\n",
    "    def denominator(self):\n",
    "        return self._denominator\n",
    "    \n",
    "    # Прочитать значение дроби с клавиатуры. Дробь вводится\n",
    "    # как a/b.\n",
    "    def read(self, prompt=None):\n",
    "        line = input() if prompt is None else input(prompt)\n",
    "        parts = list(map(int, line.split('/', maxsplit=1)))\n",
    "        if parts[1] == 0:\n",
    "            raise ValueError()\n",
    "        self._numerator = abs(parts[0])\n",
    "        self._denominator = abs(parts[1])\n",
    "        self._reduce()\n",
    "    \n",
    "    # Вывести дробь на экран\n",
    "    def display(self):\n",
    "        print(f\"{self._numerator}/{self._denominator}\")  # исправлена f-строка\n",
    "    \n",
    "    # Сложение обыкновенных дробей.\n",
    "    def add(self, rhs):\n",
    "        if isinstance(rhs, Rational):\n",
    "            a = self.numerator * rhs.denominator + \\\n",
    "                self.denominator * rhs.numerator\n",
    "            b = self.denominator * rhs.denominator\n",
    "            return Rational(a, b)\n",
    "        else:\n",
    "            raise ValueError()\n",
    "    \n",
    "    # Вычитание обыкновенных дробей.\n",
    "    def sub(self, rhs):\n",
    "        if isinstance(rhs, Rational):\n",
    "            a = self.numerator * rhs.denominator - \\\n",
    "                self.denominator * rhs.numerator\n",
    "            b = self.denominator * rhs.denominator\n",
    "            return Rational(a, b)\n",
    "        else:\n",
    "            raise ValueError()\n",
    "    \n",
    "    # умножение обыкновенных дробей.\n",
    "    def mul(self, rhs):\n",
    "        if isinstance(rhs, Rational):\n",
    "            a = self.numerator * rhs.numerator\n",
    "            b = self.denominator * rhs.denominator\n",
    "            return Rational(a, b)\n",
    "        else:\n",
    "            raise ValueError()\n",
    "    \n",
    "    # деление обыкновенных дробей.\n",
    "    def div(self, rhs):\n",
    "        if isinstance(rhs, Rational):\n",
    "            a = self.numerator * rhs.denominator\n",
    "            b = self.denominator * rhs.numerator\n",
    "            return Rational(a, b)\n",
    "        else:\n",
    "            raise ValueError()\n",
    "    \n",
    "    # Отношение обыкновенных дробей.\n",
    "    def equals(self, rhs):\n",
    "        if isinstance(rhs, Rational):\n",
    "            return (self.numerator == rhs.numerator) and \\\n",
    "                   (self.denominator == rhs.denominator)\n",
    "        else:\n",
    "            return False\n",
    "    \n",
    "    def greater(self, rhs):\n",
    "        if isinstance(rhs, Rational):\n",
    "            v1 = self.numerator / self.denominator\n",
    "            v2 = rhs.numerator / rhs.denominator\n",
    "            return v1 > v2\n",
    "        else:\n",
    "            return False\n",
    "    \n",
    "    def less(self, rhs):\n",
    "        if isinstance(rhs, Rational):\n",
    "            v1 = self.numerator / self.denominator\n",
    "            v2 = rhs.numerator / rhs.denominator\n",
    "            return v1 < v2\n",
    "        else:\n",
    "            return False\n",
    "\n",
    "\n",
    "r1 = Rational(3, 4)\n",
    "r1.display()\n",
    "\n",
    "r2 = Rational(5, 7)\n",
    "r2.display()\n",
    "\n",
    "r3 = r2.add(r1)\n",
    "r3.display()\n",
    "\n",
    "r4 = r2.sub(r1)\n",
    "r4.display()"
   ]
  }
 ],
 "metadata": {
  "colab": {
   "provenance": []
  },
  "kernelspec": {
   "display_name": "lab-1",
   "language": "python",
   "name": "python3"
  },
  "language_info": {
   "codemirror_mode": {
    "name": "ipython",
    "version": 3
   },
   "file_extension": ".py",
   "mimetype": "text/x-python",
   "name": "python",
   "nbconvert_exporter": "python",
   "pygments_lexer": "ipython3",
   "version": "3.12.4"
  }
 },
 "nbformat": 4,
 "nbformat_minor": 4
}
